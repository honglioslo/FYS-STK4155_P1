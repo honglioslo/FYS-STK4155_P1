{
 "cells": [
  {
   "cell_type": "code",
   "execution_count": 6,
   "metadata": {
    "scrolled": true
   },
   "outputs": [
    {
     "name": "stdout",
     "output_type": "stream",
     "text": [
      "0.9103891863054582\n",
      "done\n"
     ]
    }
   ],
   "source": [
    "from numpy.random import randint, randn\n",
    "from time import time\n",
    "\n",
    "import matplotlib.mlab as mlab\n",
    "import matplotlib.pyplot as plt\n",
    "from mpl_toolkits.mplot3d import Axes3D\n",
    "import matplotlib.pyplot as plt\n",
    "from matplotlib import cm\n",
    "from matplotlib.ticker import LinearLocator, FormatStrFormatter\n",
    "import numpy as np\n",
    "from random import random, seed\n",
    "\n",
    "from sklearn import linear_model\n",
    "from sklearn.preprocessing import PolynomialFeatures\n",
    "from sklearn.pipeline import make_pipeline\n",
    "from sklearn.linear_model import LinearRegression\n",
    "from sklearn.metrics import mean_squared_error, r2_score, mean_squared_log_error, mean_absolute_error\n",
    "\n",
    "def FrankeFunction(x,y):\n",
    "    term1 = 0.75*np.exp(-(0.25*(9*x-2)**2) - 0.25*((9*y-2)**2))\n",
    "    term2 = 0.75*np.exp(-((9*x+1)**2)/49.0 - 0.1*(9*y+1))\n",
    "    term3 = 0.5*np.exp(-(9*x-7)**2/4.0 - 0.25*((9*y-3)**2))\n",
    "    term4 = -0.2*np.exp(-(9*x-4)**2 - (9*y-7)**2)\n",
    "    return term1 + term2 + term3 + term4\n",
    "\n",
    "if __name__ == '__main__':\n",
    "    # perform OLS regression based on generated data\n",
    "    \n",
    "    # open result files\n",
    "    text_mse_all = open(\"OLS_mse_all.txt\", \"w+\")\n",
    "    text_mse_cross = open(\"OLS_mse_cross.txt\", \"w+\")\n",
    "    text_r2_all = open(\"OLS_r2_all.txt\", \"w+\")\n",
    "    text_r2_cross = open(\"OLS_r2_cross.txt\", \"w+\")\n",
    "    text_mse_all.write(\" MSE \\n\")\n",
    "    text_mse_cross.write(\" MSE \\n\")\n",
    "    text_r2_all.write(\" R2 \\n\")\n",
    "    text_r2_cross.write(\" R2 \\n\")\n",
    "\n",
    "    text_beta_cross = open(\"OLS_beta_cross.txt\", \"w+\")\n",
    "\n",
    "    # parameters to use\n",
    "    n_points = 10000\n",
    "    k_cross = 1000\n",
    "    test_per = 0.2\n",
    "    n_poly = 5\n",
    " \n",
    "    max_iter=10000\n",
    "    min_tol=0.0001\n",
    "    # generate data\n",
    "    x = np.random.rand(n_points, 1)\n",
    "    y = np.random.rand(n_points, 1)\n",
    "    z = FrankeFunction(x, y) + np.random.rand(n_points, 1)\n",
    "    print(np.mean(z))\n",
    "    X = np.c_[x, y]\n",
    "    poly = PolynomialFeatures(n_poly)\n",
    "    X_input = poly.fit_transform(X)\n",
    "    \n",
    "    # OLS regression for all data\n",
    "    beta = np.linalg.inv(X_input.T @ X_input) @ X_input.T @ z   \n",
    "    ypredict = X_input @ beta \n",
    "    text_mse_all.write(\" %.4f \\n\" % mean_squared_error(z, ypredict))\n",
    "    text_r2_all.write(\" %.4f \\n\" % r2_score(z, ypredict))\n",
    "\n",
    "    # do k-fold validation\n",
    "    for i_n in np.arange(1, k_cross + 1):\n",
    "        # seperate into test and training datasets\n",
    "        test_index = np.random.randint(0, n_points, size = int(test_per * n_points))\n",
    "        training_index = np.random.randint(0, n_points, size = int((1-test_per) * n_points))\n",
    "        test_z = z[test_index]    \n",
    "        test_X = X_input[test_index, ]\n",
    "        training_z = z[training_index]\n",
    "        training_X = X_input[training_index, ] \n",
    " \n",
    "        # perform OLS regression\n",
    "        beta = np.linalg.inv(training_X.T @ training_X) @ training_X.T @ training_z   \n",
    "        ypredict = test_X @ beta \n",
    "        text_mse_cross.write(\" %.4f \\n\" % mean_squared_error(test_z, ypredict))\n",
    "        text_r2_cross.write(\" %.4f \\n\" % r2_score(test_z, ypredict))  \n",
    "        for ib in beta:\n",
    "            text_beta_cross.write(\"%.4f \" % ib)\n",
    "        text_beta_cross.write(\"\\n\")\n",
    "    \n",
    "    text_mse_all.close()\n",
    "    text_r2_all.close()\n",
    "    text_mse_cross.close()\n",
    "    text_r2_cross.close()\n",
    "    text_beta_cross.close()\n",
    "    print(\"done\")\n"
   ]
  },
  {
   "cell_type": "code",
   "execution_count": null,
   "metadata": {},
   "outputs": [],
   "source": []
  },
  {
   "cell_type": "code",
   "execution_count": null,
   "metadata": {},
   "outputs": [],
   "source": [
    "print \"hello world\"\n",
    "\n"
   ]
  }
 ],
 "metadata": {
  "kernelspec": {
   "display_name": "Python 3",
   "language": "python",
   "name": "python3"
  },
  "language_info": {
   "codemirror_mode": {
    "name": "ipython",
    "version": 3
   },
   "file_extension": ".py",
   "mimetype": "text/x-python",
   "name": "python",
   "nbconvert_exporter": "python",
   "pygments_lexer": "ipython3",
   "version": "3.6.5"
  }
 },
 "nbformat": 4,
 "nbformat_minor": 2
}
