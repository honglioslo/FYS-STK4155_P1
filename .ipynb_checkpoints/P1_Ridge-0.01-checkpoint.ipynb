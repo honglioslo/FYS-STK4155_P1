{
 "cells": [
  {
   "cell_type": "code",
   "execution_count": 3,
   "metadata": {},
   "outputs": [
    {
     "name": "stdout",
     "output_type": "stream",
     "text": [
      "done\n"
     ]
    }
   ],
   "source": [
    "from numpy.random import randint, randn\n",
    "from time import time\n",
    "\n",
    "import matplotlib.mlab as mlab\n",
    "import matplotlib.pyplot as plt\n",
    "from mpl_toolkits.mplot3d import Axes3D\n",
    "import matplotlib.pyplot as plt\n",
    "from matplotlib import cm\n",
    "from matplotlib.ticker import LinearLocator, FormatStrFormatter\n",
    "import numpy as np\n",
    "from random import random, seed\n",
    "\n",
    "from sklearn import linear_model\n",
    "from sklearn.preprocessing import PolynomialFeatures\n",
    "from sklearn.pipeline import make_pipeline\n",
    "from sklearn.linear_model import LinearRegression\n",
    "from sklearn.metrics import mean_squared_error, r2_score, mean_squared_log_error, mean_absolute_error\n",
    "\n",
    "# bootstraping\n",
    "def FrankeFunction(x,y):\n",
    "    term1 = 0.75*np.exp(-(0.25*(9*x-2)**2) - 0.25*((9*y-2)**2))\n",
    "    term2 = 0.75*np.exp(-((9*x+1)**2)/49.0 - 0.1*(9*y+1))\n",
    "    term3 = 0.5*np.exp(-(9*x-7)**2/4.0 - 0.25*((9*y-3)**2))\n",
    "    term4 = -0.2*np.exp(-(9*x-4)**2 - (9*y-7)**2)\n",
    "    return term1 + term2 + term3 + term4\n",
    "\n",
    "if __name__ == '__main__':\n",
    "    # perform Ridge regression based on generated data\n",
    "    \n",
    "    # open result files\n",
    "    text_mse_all = open(\"Ridge_mse_all_lambda.txt\", \"w+\")\n",
    "    text_mse_cross = open(\"Ridge_mse_cross_lambda.txt\", \"w+\")\n",
    "    text_r2_all = open(\"Ridge_r2_all.txt_lambda\", \"w+\")\n",
    "    text_r2_cross = open(\"Ridge_r2_cross.txt_lambda\", \"w+\")\n",
    "    text_mse_all.write(\"lamda; MSE \\n\")\n",
    "    text_mse_cross.write(\"lamda; MSE \\n\")\n",
    "    text_r2_all.write(\"lamda; R2 \\n\")\n",
    "    text_r2_cross.write(\"lamda; R2 \\n\")\n",
    "    \n",
    "    text_beta_cross = open(\"Ridge_beta_cross.txt\", \"w+\")\n",
    "\n",
    "    # parameters to use\n",
    "    n_points = 10000\n",
    "    k_cross = 1000\n",
    "    test_per = 0.2\n",
    "    n_poly = 5\n",
    " \n",
    "    max_iter=10000\n",
    "    min_tol=0.0001\n",
    "    lamda_array = [0.01]\n",
    "    # generate data\n",
    "    x = np.random.rand(n_points, 1)\n",
    "    y = np.random.rand(n_points, 1)\n",
    "    z = FrankeFunction(x, y) + np.random.rand(n_points, 1)\n",
    "    X = np.c_[x, y]\n",
    "    poly = PolynomialFeatures(n_poly)\n",
    "    X_input = poly.fit_transform(X)\n",
    "    \n",
    "    for lamda in lamda_array:\n",
    "        # Ridge regression for all data\n",
    "        beta = np.linalg.inv(X_input.T @ X_input + lamda * np.ones((X_input.shape[1], X_input.shape[1]))) @ X_input.T @ z   \n",
    "        ypredict = X_input @ beta \n",
    "        text_mse_all.write(\" %.3f; %.4f \\n\" % (lamda, mean_squared_error(z, ypredict)))\n",
    "        text_r2_all.write(\" %.3f; %.4f \\n\" % (lamda, r2_score(z, ypredict)))\n",
    "\n",
    "        # do k-fold validation\n",
    "        for i_n in np.arange(1, k_cross + 1):\n",
    "            # seperate into test and training datasets\n",
    "            test_index = np.random.randint(0, n_points, size = int(test_per * n_points))\n",
    "            training_index = np.random.randint(0, n_points, size = int((1-test_per) * n_points))\n",
    "            test_z = z[test_index]    \n",
    "            test_X = X_input[test_index, ]\n",
    "            training_z = z[training_index]\n",
    "            training_X = X_input[training_index, ] \n",
    "            # perform Ridge regression\n",
    "            beta = np.linalg.inv(test_X.T @ test_X + lamda * np.ones((test_X.shape[1], test_X.shape[1]))) @ test_X.T @ test_z   \n",
    "            ypredict = test_X @ beta \n",
    "            text_mse_cross.write(\" %.3f; %.4f \\n\" % (lamda, mean_squared_error(test_z, ypredict)))\n",
    "            text_r2_cross.write(\" %.3f; %.4f \\n\" % (lamda, r2_score(test_z, ypredict)))      \n",
    "            if (len(beta) == 21):\n",
    "                for ib in beta:\n",
    "                    text_beta_cross.write(\"%.4f \" % ib)\n",
    "                text_beta_cross.write(\"\\n\")\n",
    "    \n",
    "    text_mse_all.close()\n",
    "    text_r2_all.close()\n",
    "    text_mse_cross.close()\n",
    "    text_r2_cross.close()\n",
    "    text_beta_cross.close()\n",
    "    print(\"done\")"
   ]
  },
  {
   "cell_type": "code",
   "execution_count": null,
   "metadata": {},
   "outputs": [],
   "source": []
  },
  {
   "cell_type": "code",
   "execution_count": 60,
   "metadata": {},
   "outputs": [
    {
     "ename": "SyntaxError",
     "evalue": "Missing parentheses in call to 'print'. Did you mean print(\"hello world\")? (<ipython-input-60-6d29d8fb337c>, line 1)",
     "output_type": "error",
     "traceback": [
      "\u001b[1;36m  File \u001b[1;32m\"<ipython-input-60-6d29d8fb337c>\"\u001b[1;36m, line \u001b[1;32m1\u001b[0m\n\u001b[1;33m    print \"hello world\"\u001b[0m\n\u001b[1;37m                      ^\u001b[0m\n\u001b[1;31mSyntaxError\u001b[0m\u001b[1;31m:\u001b[0m Missing parentheses in call to 'print'. Did you mean print(\"hello world\")?\n"
     ]
    }
   ],
   "source": [
    "print \"hello world\"\n",
    "\n"
   ]
  },
  {
   "cell_type": "code",
   "execution_count": null,
   "metadata": {},
   "outputs": [],
   "source": []
  },
  {
   "cell_type": "code",
   "execution_count": null,
   "metadata": {},
   "outputs": [],
   "source": []
  }
 ],
 "metadata": {
  "kernelspec": {
   "display_name": "Python 3",
   "language": "python",
   "name": "python3"
  },
  "language_info": {
   "codemirror_mode": {
    "name": "ipython",
    "version": 3
   },
   "file_extension": ".py",
   "mimetype": "text/x-python",
   "name": "python",
   "nbconvert_exporter": "python",
   "pygments_lexer": "ipython3",
   "version": "3.6.5"
  }
 },
 "nbformat": 4,
 "nbformat_minor": 2
}
